{
  "cells": [
    {
      "cell_type": "raw",
      "metadata": {},
      "source": [
        "---\n",
        "title: 'Welcome to my Github'\n",
        "editor: visual\n",
        "format: html\n",
        "---"
      ],
      "id": "8d3e5a7a"
    },
    {
      "cell_type": "markdown",
      "metadata": {},
      "source": [
        "```{=html}\n",
        "<style type=\"text/css\">\n",
        "\n",
        "h1.title {\n",
        "text-align: center;\n",
        "}\n",
        "\n",
        "</style>\n",
        "\n",
        "```\n",
        "\n",
        "::: {style=\"text-align: center;\"}\n",
        "<img src=\"pfp.JPG\" width=\"145.3465\" height=\"160\"/>\n",
        ":::\n",
        "\n",
        "I'm a Fourth-year Finance Honors and Accounting student the University of Alberta with a strong interest in commodity and securities trading, risk management & economics.\n",
        "\n",
        "On this webpage you'll find a series of projects I've completed; topics currently range from algorithmic trading models to supply-demanded based commodity analysis, with plans to develop both the scope and complexity of published content in the near term. This site is intended to highlight topics I find interesting through the application of data science skills I've acquired as a student and analyst at Trust Science.\n",
        "\n",
        "\n",
        "```{html}\n",
        "<!DOCTYPE html>\n",
        "<html>\n",
        "<head>\n",
        "    <title>Contact Me</title>\n",
        "    <link rel=\"stylesheet\" href=\"https://cdnjs.cloudflare.com/ajax/libs/font-awesome/6.1.1/css/all.min.css\">\n",
        "    <style>\n",
        "        /* CSS styles */\n",
        "    </style>\n",
        "</head>\n",
        "<body>\n",
        "\n",
        "<div class=\"contact-links\">\n",
        "    <a class=\"contact-link\" href=\"mailto:talman@ualberta.ca\">\n",
        "        <i class=\"fa-solid fa-envelope\"></i> Email\n",
        "    </a>\n",
        "    <a class=\"contact-link\" href=\"https://github.com/ltals\">\n",
        "        <i class=\"fa-brands fa-github\"></i> GitHub\n",
        "    </a>\n",
        "    <a class=\"contact-link\" href=\"https://www.linkedin.com/in/luketalman/\">\n",
        "        <i class=\"fa-brands fa-linkedin\"></i> LinkedIn\n",
        "    </a>\n",
        "</div>\n",
        "\n",
        "</body>\n",
        "</html>\n",
        "\n",
        "```"
      ],
      "id": "04fd0c5c"
    }
  ],
  "metadata": {
    "kernelspec": {
      "display_name": "Python 3",
      "language": "python",
      "name": "python3"
    }
  },
  "nbformat": 4,
  "nbformat_minor": 5
}